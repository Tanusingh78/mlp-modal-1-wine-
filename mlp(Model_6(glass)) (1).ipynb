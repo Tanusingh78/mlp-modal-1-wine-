{
  "nbformat": 4,
  "nbformat_minor": 0,
  "metadata": {
    "colab": {
      "provenance": []
    },
    "kernelspec": {
      "name": "python3",
      "display_name": "Python 3"
    },
    "language_info": {
      "name": "python"
    }
  },
  "cells": [
    {
      "cell_type": "code",
      "execution_count": 58,
      "metadata": {
        "id": "RSaB7UVJ_L8Q"
      },
      "outputs": [],
      "source": [
        "from sklearn.model_selection import train_test_split\n",
        "from keras.models import Sequential\n",
        "from keras.layers import Dense\n",
        "import pandas as pd\n"
      ]
    },
    {
      "cell_type": "code",
      "execution_count": 59,
      "metadata": {
        "colab": {
          "base_uri": "https://localhost:8080/"
        },
        "id": "ZeRp5VsMAN-8",
        "outputId": "d493ab1e-9aec-43a6-898e-e3dfa7489bf2"
      },
      "outputs": [
        {
          "output_type": "execute_result",
          "data": {
            "text/plain": [
              "2140"
            ]
          },
          "metadata": {},
          "execution_count": 59
        }
      ],
      "source": [
        "data=pd.read_csv('/glass.csv')\n",
        "data\n",
        "data.size"
      ]
    },
    {
      "cell_type": "code",
      "execution_count": 60,
      "metadata": {
        "colab": {
          "base_uri": "https://localhost:8080/"
        },
        "id": "P4hsbZZuxkML",
        "outputId": "1080b4bb-2067-488d-f735-83a69aaba569"
      },
      "outputs": [
        {
          "output_type": "stream",
          "name": "stdout",
          "text": [
            "        RI     Na    Mg    Al     Si     K    Ca   Ba   Fe  Type\n",
            "0  1.52101  13.64  4.49  1.10  71.78  0.06  8.75  0.0  0.0     1\n",
            "1  1.51761  13.89  3.60  1.36  72.73  0.48  7.83  0.0  0.0     1\n",
            "2  1.51618  13.53  3.55  1.54  72.99  0.39  7.78  0.0  0.0     1\n",
            "3  1.51766  13.21  3.69  1.29  72.61  0.57  8.22  0.0  0.0     1\n",
            "4  1.51742  13.27  3.62  1.24  73.08  0.55  8.07  0.0  0.0     1\n"
          ]
        }
      ],
      "source": [
        "print(data.head())"
      ]
    },
    {
      "cell_type": "code",
      "execution_count": 61,
      "metadata": {
        "colab": {
          "base_uri": "https://localhost:8080/"
        },
        "id": "fHDElyktUyao",
        "outputId": "7c8a9032-43b7-4888-fd7c-d05c81e6075e"
      },
      "outputs": [
        {
          "output_type": "stream",
          "name": "stdout",
          "text": [
            "<class 'pandas.core.frame.DataFrame'>\n",
            "RangeIndex: 214 entries, 0 to 213\n",
            "Data columns (total 10 columns):\n",
            " #   Column  Non-Null Count  Dtype  \n",
            "---  ------  --------------  -----  \n",
            " 0   RI      214 non-null    float64\n",
            " 1   Na      214 non-null    float64\n",
            " 2   Mg      214 non-null    float64\n",
            " 3   Al      214 non-null    float64\n",
            " 4   Si      214 non-null    float64\n",
            " 5   K       214 non-null    float64\n",
            " 6   Ca      214 non-null    float64\n",
            " 7   Ba      214 non-null    float64\n",
            " 8   Fe      214 non-null    float64\n",
            " 9   Type    214 non-null    int64  \n",
            "dtypes: float64(9), int64(1)\n",
            "memory usage: 16.8 KB\n",
            "None\n"
          ]
        }
      ],
      "source": [
        "print(data.info())"
      ]
    },
    {
      "cell_type": "code",
      "execution_count": 62,
      "metadata": {
        "colab": {
          "base_uri": "https://localhost:8080/"
        },
        "id": "80RftRbtUykh",
        "outputId": "341dcc8e-9b9a-4800-cb1f-e3032275a35e"
      },
      "outputs": [
        {
          "output_type": "stream",
          "name": "stdout",
          "text": [
            "               RI          Na          Mg          Al          Si           K  \\\n",
            "count  214.000000  214.000000  214.000000  214.000000  214.000000  214.000000   \n",
            "mean     1.518365   13.407850    2.684533    1.444907   72.650935    0.497056   \n",
            "std      0.003037    0.816604    1.442408    0.499270    0.774546    0.652192   \n",
            "min      1.511150   10.730000    0.000000    0.290000   69.810000    0.000000   \n",
            "25%      1.516522   12.907500    2.115000    1.190000   72.280000    0.122500   \n",
            "50%      1.517680   13.300000    3.480000    1.360000   72.790000    0.555000   \n",
            "75%      1.519157   13.825000    3.600000    1.630000   73.087500    0.610000   \n",
            "max      1.533930   17.380000    4.490000    3.500000   75.410000    6.210000   \n",
            "\n",
            "               Ca          Ba          Fe        Type  \n",
            "count  214.000000  214.000000  214.000000  214.000000  \n",
            "mean     8.956963    0.175047    0.057009    2.780374  \n",
            "std      1.423153    0.497219    0.097439    2.103739  \n",
            "min      5.430000    0.000000    0.000000    1.000000  \n",
            "25%      8.240000    0.000000    0.000000    1.000000  \n",
            "50%      8.600000    0.000000    0.000000    2.000000  \n",
            "75%      9.172500    0.000000    0.100000    3.000000  \n",
            "max     16.190000    3.150000    0.510000    7.000000  \n"
          ]
        }
      ],
      "source": [
        "print(data.describe())"
      ]
    },
    {
      "cell_type": "code",
      "execution_count": 63,
      "metadata": {
        "colab": {
          "base_uri": "https://localhost:8080/"
        },
        "id": "T0Sylb5wUytR",
        "outputId": "1180dd19-f405-4d37-e15d-b719cb7cc9c7"
      },
      "outputs": [
        {
          "output_type": "stream",
          "name": "stdout",
          "text": [
            "RI      0\n",
            "Na      0\n",
            "Mg      0\n",
            "Al      0\n",
            "Si      0\n",
            "K       0\n",
            "Ca      0\n",
            "Ba      0\n",
            "Fe      0\n",
            "Type    0\n",
            "dtype: int64\n"
          ]
        }
      ],
      "source": [
        "print(data.isnull().sum())"
      ]
    },
    {
      "cell_type": "code",
      "execution_count": 64,
      "metadata": {
        "colab": {
          "base_uri": "https://localhost:8080/"
        },
        "id": "O4VPm6pEUyyH",
        "outputId": "c282a7e9-9aec-4437-fa5b-45b372be931a"
      },
      "outputs": [
        {
          "output_type": "stream",
          "name": "stdout",
          "text": [
            "0      False\n",
            "1      False\n",
            "2      False\n",
            "3      False\n",
            "4      False\n",
            "       ...  \n",
            "209    False\n",
            "210    False\n",
            "211    False\n",
            "212    False\n",
            "213    False\n",
            "Length: 214, dtype: bool\n"
          ]
        }
      ],
      "source": [
        "print(data.duplicated())"
      ]
    },
    {
      "cell_type": "code",
      "execution_count": 65,
      "metadata": {
        "colab": {
          "base_uri": "https://localhost:8080/"
        },
        "id": "QsQBk73UUy0I",
        "outputId": "7ca93bc1-83de-40bf-ea41-4e91a8a2a025"
      },
      "outputs": [
        {
          "output_type": "stream",
          "name": "stdout",
          "text": [
            "1\n"
          ]
        }
      ],
      "source": [
        "print(data.duplicated().sum())"
      ]
    },
    {
      "cell_type": "code",
      "execution_count": 66,
      "metadata": {
        "id": "YxDPXUrLUy4n",
        "colab": {
          "base_uri": "https://localhost:8080/"
        },
        "outputId": "0b3a7580-4ecc-4218-8c92-43f5fd311f4e"
      },
      "outputs": [
        {
          "output_type": "stream",
          "name": "stdout",
          "text": [
            "None\n",
            "0\n"
          ]
        }
      ],
      "source": [
        "print(data.drop_duplicates(inplace=True))\n",
        "print(data.duplicated().sum())"
      ]
    },
    {
      "cell_type": "code",
      "execution_count": 67,
      "metadata": {
        "colab": {
          "base_uri": "https://localhost:8080/"
        },
        "id": "-qH8fOuLagIT",
        "outputId": "7f74c790-c2d1-429d-c9f9-ba4ecca139f6"
      },
      "outputs": [
        {
          "output_type": "execute_result",
          "data": {
            "text/plain": [
              "Index(['RI', 'Na', 'Mg', 'Al', 'Si', 'K', 'Ca', 'Ba', 'Fe', 'Type'], dtype='object')"
            ]
          },
          "metadata": {},
          "execution_count": 67
        }
      ],
      "source": [
        "data.columns"
      ]
    },
    {
      "cell_type": "code",
      "execution_count": 68,
      "metadata": {
        "colab": {
          "base_uri": "https://localhost:8080/"
        },
        "id": "xC-KRqfFae9Y",
        "outputId": "ec2e2ed6-73f1-4393-8e76-4a6fdeed2a09"
      },
      "outputs": [
        {
          "output_type": "stream",
          "name": "stdout",
          "text": [
            "          RI     Na    Mg    Al     Si     K    Ca    Ba   Fe\n",
            "0    1.52101  13.64  4.49  1.10  71.78  0.06  8.75  0.00  0.0\n",
            "1    1.51761  13.89  3.60  1.36  72.73  0.48  7.83  0.00  0.0\n",
            "2    1.51618  13.53  3.55  1.54  72.99  0.39  7.78  0.00  0.0\n",
            "3    1.51766  13.21  3.69  1.29  72.61  0.57  8.22  0.00  0.0\n",
            "4    1.51742  13.27  3.62  1.24  73.08  0.55  8.07  0.00  0.0\n",
            "..       ...    ...   ...   ...    ...   ...   ...   ...  ...\n",
            "209  1.51623  14.14  0.00  2.88  72.61  0.08  9.18  1.06  0.0\n",
            "210  1.51685  14.92  0.00  1.99  73.06  0.00  8.40  1.59  0.0\n",
            "211  1.52065  14.36  0.00  2.02  73.42  0.00  8.44  1.64  0.0\n",
            "212  1.51651  14.38  0.00  1.94  73.61  0.00  8.48  1.57  0.0\n",
            "213  1.51711  14.23  0.00  2.08  73.36  0.00  8.62  1.67  0.0\n",
            "\n",
            "[213 rows x 9 columns]\n"
          ]
        }
      ],
      "source": [
        "x=data[['RI', 'Na', 'Mg', 'Al', 'Si', 'K', 'Ca', 'Ba', 'Fe']]\n",
        "print(x)"
      ]
    },
    {
      "cell_type": "code",
      "execution_count": 69,
      "metadata": {
        "colab": {
          "base_uri": "https://localhost:8080/"
        },
        "id": "8imdrak3afKR",
        "outputId": "b3d7d665-7ee1-438d-f2ee-1ab9fee72d85"
      },
      "outputs": [
        {
          "output_type": "stream",
          "name": "stdout",
          "text": [
            "     Type\n",
            "0       1\n",
            "1       1\n",
            "2       1\n",
            "3       1\n",
            "4       1\n",
            "..    ...\n",
            "209     7\n",
            "210     7\n",
            "211     7\n",
            "212     7\n",
            "213     7\n",
            "\n",
            "[213 rows x 1 columns]\n"
          ]
        }
      ],
      "source": [
        "y=data[['Type']]\n",
        "print(y)"
      ]
    },
    {
      "cell_type": "code",
      "execution_count": 15,
      "metadata": {
        "colab": {
          "base_uri": "https://localhost:8080/"
        },
        "id": "OaejOBaVlxbL",
        "outputId": "92b221aa-ae3f-4724-a120-d1ebf086a17b"
      },
      "outputs": [
        {
          "output_type": "stream",
          "name": "stdout",
          "text": [
            "[0 0 0 0 0 0 0 0 0 0 0 0 0 0 0 0 0 0 0 0 0 0 0 0 0 0 0 0 0 0 0 0 0 0 0 0 0\n",
            " 0 0 0 0 0 0 0 0 0 0 0 0 0 0 0 0 0 0 0 0 0 0 0 0 0 0 0 0 0 0 0 0 1 1 1 1 1\n",
            " 1 1 1 1 1 1 1 1 1 1 1 1 1 1 1 1 1 1 1 1 1 1 1 1 1 1 1 1 1 1 1 1 1 1 1 1 1\n",
            " 1 1 1 1 1 1 1 1 1 1 1 1 1 1 1 1 1 1 1 1 1 1 1 1 1 1 1 1 1 1 1 1 1 1 2 2 2\n",
            " 2 2 2 2 2 2 2 2 2 2 2 2 2 2 3 3 3 3 3 3 3 3 3 3 3 3 3 4 4 4 4 4 4 4 4 4 5\n",
            " 5 5 5 5 5 5 5 5 5 5 5 5 5 5 5 5 5 5 5 5 5 5 5 5 5 5 5 5]\n"
          ]
        },
        {
          "output_type": "stream",
          "name": "stderr",
          "text": [
            "/usr/local/lib/python3.10/dist-packages/sklearn/preprocessing/_label.py:116: DataConversionWarning: A column-vector y was passed when a 1d array was expected. Please change the shape of y to (n_samples, ), for example using ravel().\n",
            "  y = column_or_1d(y, warn=True)\n"
          ]
        }
      ],
      "source": [
        "from sklearn.preprocessing import LabelEncoder\n",
        "le=LabelEncoder()\n",
        "y=le.fit_transform(y)\n",
        "print(y)"
      ]
    },
    {
      "cell_type": "code",
      "execution_count": 70,
      "metadata": {
        "id": "lofZacXyafWC"
      },
      "outputs": [],
      "source": [
        "from sklearn.preprocessing import StandardScaler\n",
        "scaler=StandardScaler()\n",
        "x=scaler.fit_transform(x)"
      ]
    },
    {
      "cell_type": "code",
      "execution_count": 71,
      "metadata": {
        "colab": {
          "base_uri": "https://localhost:8080/"
        },
        "id": "CgyQBAX4cSIP",
        "outputId": "74f077b1-c60b-4420-899b-49451596b258"
      },
      "outputs": [
        {
          "output_type": "execute_result",
          "data": {
            "text/plain": [
              "((170, 9), (43, 9), (170, 8), (43, 8))"
            ]
          },
          "metadata": {},
          "execution_count": 71
        }
      ],
      "source": [
        "from sklearn.model_selection import train_test_split\n",
        "from keras.utils import to_categorical\n",
        "y_encoded=to_categorical(y)\n",
        "from sklearn.model_selection import train_test_split\n",
        "X_train,X_test,y_train,y_test=train_test_split(x,y_encoded,test_size=0.2,random_state=42)\n",
        "X_train.shape,X_test.shape,y_train.shape,y_test.shape"
      ]
    },
    {
      "cell_type": "code",
      "execution_count": 76,
      "metadata": {
        "id": "meDwnG5jcSMd"
      },
      "outputs": [],
      "source": [
        "from keras.models import Sequential\n",
        "from keras.layers import Dense\n",
        "model=Sequential()\n",
        "model.add(Dense(10,input_shape=(X_train.shape[1],),activation='relu'))\n",
        "model.add(Dense(8,activation='relu'))\n",
        "model.add(Dense(8,activation='softmax'))"
      ]
    },
    {
      "cell_type": "code",
      "execution_count": 77,
      "metadata": {
        "colab": {
          "base_uri": "https://localhost:8080/"
        },
        "id": "2DPORifWcSOx",
        "outputId": "1ea701d0-0514-4550-c12c-3eb12646d5b4"
      },
      "outputs": [
        {
          "output_type": "stream",
          "name": "stdout",
          "text": [
            "Model: \"sequential_4\"\n",
            "_________________________________________________________________\n",
            " Layer (type)                Output Shape              Param #   \n",
            "=================================================================\n",
            " dense_12 (Dense)            (None, 10)                100       \n",
            "                                                                 \n",
            " dense_13 (Dense)            (None, 8)                 88        \n",
            "                                                                 \n",
            " dense_14 (Dense)            (None, 8)                 72        \n",
            "                                                                 \n",
            "=================================================================\n",
            "Total params: 260 (1.02 KB)\n",
            "Trainable params: 260 (1.02 KB)\n",
            "Non-trainable params: 0 (0.00 Byte)\n",
            "_________________________________________________________________\n"
          ]
        }
      ],
      "source": [
        "model.summary()"
      ]
    },
    {
      "cell_type": "code",
      "execution_count": 84,
      "metadata": {
        "colab": {
          "base_uri": "https://localhost:8080/"
        },
        "id": "ej3ZMOwbcSRu",
        "outputId": "1c3014cd-fe08-4ac2-bc5d-c91e3c9b32b4"
      },
      "outputs": [
        {
          "output_type": "stream",
          "name": "stdout",
          "text": [
            "Epoch 1/50\n",
            "6/6 [==============================] - 1s 4ms/step - loss: 0.9464 - accuracy: 0.6706\n",
            "Epoch 2/50\n",
            "6/6 [==============================] - 0s 3ms/step - loss: 0.9390 - accuracy: 0.6706\n",
            "Epoch 3/50\n",
            "6/6 [==============================] - 0s 3ms/step - loss: 0.9334 - accuracy: 0.6706\n",
            "Epoch 4/50\n",
            "6/6 [==============================] - 0s 3ms/step - loss: 0.9288 - accuracy: 0.6706\n",
            "Epoch 5/50\n",
            "6/6 [==============================] - 0s 3ms/step - loss: 0.9246 - accuracy: 0.6706\n",
            "Epoch 6/50\n",
            "6/6 [==============================] - 0s 3ms/step - loss: 0.9208 - accuracy: 0.6706\n",
            "Epoch 7/50\n",
            "6/6 [==============================] - 0s 4ms/step - loss: 0.9162 - accuracy: 0.6706\n",
            "Epoch 8/50\n",
            "6/6 [==============================] - 0s 3ms/step - loss: 0.9122 - accuracy: 0.6706\n",
            "Epoch 9/50\n",
            "6/6 [==============================] - 0s 3ms/step - loss: 0.9083 - accuracy: 0.6706\n",
            "Epoch 10/50\n",
            "6/6 [==============================] - 0s 4ms/step - loss: 0.9041 - accuracy: 0.6706\n",
            "Epoch 11/50\n",
            "6/6 [==============================] - 0s 4ms/step - loss: 0.9004 - accuracy: 0.6706\n",
            "Epoch 12/50\n",
            "6/6 [==============================] - 0s 4ms/step - loss: 0.8966 - accuracy: 0.6706\n",
            "Epoch 13/50\n",
            "6/6 [==============================] - 0s 4ms/step - loss: 0.8931 - accuracy: 0.6706\n",
            "Epoch 14/50\n",
            "6/6 [==============================] - 0s 4ms/step - loss: 0.8895 - accuracy: 0.6765\n",
            "Epoch 15/50\n",
            "6/6 [==============================] - 0s 4ms/step - loss: 0.8852 - accuracy: 0.6824\n",
            "Epoch 16/50\n",
            "6/6 [==============================] - 0s 5ms/step - loss: 0.8823 - accuracy: 0.6824\n",
            "Epoch 17/50\n",
            "6/6 [==============================] - 0s 3ms/step - loss: 0.8782 - accuracy: 0.6824\n",
            "Epoch 18/50\n",
            "6/6 [==============================] - 0s 3ms/step - loss: 0.8756 - accuracy: 0.6882\n",
            "Epoch 19/50\n",
            "6/6 [==============================] - 0s 4ms/step - loss: 0.8718 - accuracy: 0.6941\n",
            "Epoch 20/50\n",
            "6/6 [==============================] - 0s 4ms/step - loss: 0.8686 - accuracy: 0.6941\n",
            "Epoch 21/50\n",
            "6/6 [==============================] - 0s 4ms/step - loss: 0.8655 - accuracy: 0.6941\n",
            "Epoch 22/50\n",
            "6/6 [==============================] - 0s 5ms/step - loss: 0.8630 - accuracy: 0.6941\n",
            "Epoch 23/50\n",
            "6/6 [==============================] - 0s 3ms/step - loss: 0.8590 - accuracy: 0.6941\n",
            "Epoch 24/50\n",
            "6/6 [==============================] - 0s 4ms/step - loss: 0.8571 - accuracy: 0.6824\n",
            "Epoch 25/50\n",
            "6/6 [==============================] - 0s 4ms/step - loss: 0.8535 - accuracy: 0.6824\n",
            "Epoch 26/50\n",
            "6/6 [==============================] - 0s 4ms/step - loss: 0.8505 - accuracy: 0.6824\n",
            "Epoch 27/50\n",
            "6/6 [==============================] - 0s 4ms/step - loss: 0.8480 - accuracy: 0.6882\n",
            "Epoch 28/50\n",
            "6/6 [==============================] - 0s 5ms/step - loss: 0.8452 - accuracy: 0.6882\n",
            "Epoch 29/50\n",
            "6/6 [==============================] - 0s 4ms/step - loss: 0.8423 - accuracy: 0.6882\n",
            "Epoch 30/50\n",
            "6/6 [==============================] - 0s 4ms/step - loss: 0.8393 - accuracy: 0.6941\n",
            "Epoch 31/50\n",
            "6/6 [==============================] - 0s 4ms/step - loss: 0.8364 - accuracy: 0.6941\n",
            "Epoch 32/50\n",
            "6/6 [==============================] - 0s 5ms/step - loss: 0.8346 - accuracy: 0.7000\n",
            "Epoch 33/50\n",
            "6/6 [==============================] - 0s 4ms/step - loss: 0.8305 - accuracy: 0.6941\n",
            "Epoch 34/50\n",
            "6/6 [==============================] - 0s 3ms/step - loss: 0.8285 - accuracy: 0.6941\n",
            "Epoch 35/50\n",
            "6/6 [==============================] - 0s 3ms/step - loss: 0.8256 - accuracy: 0.7059\n",
            "Epoch 36/50\n",
            "6/6 [==============================] - 0s 3ms/step - loss: 0.8231 - accuracy: 0.7118\n",
            "Epoch 37/50\n",
            "6/6 [==============================] - 0s 3ms/step - loss: 0.8210 - accuracy: 0.7059\n",
            "Epoch 38/50\n",
            "6/6 [==============================] - 0s 3ms/step - loss: 0.8173 - accuracy: 0.7118\n",
            "Epoch 39/50\n",
            "6/6 [==============================] - 0s 3ms/step - loss: 0.8148 - accuracy: 0.7118\n",
            "Epoch 40/50\n",
            "6/6 [==============================] - 0s 4ms/step - loss: 0.8135 - accuracy: 0.7059\n",
            "Epoch 41/50\n",
            "6/6 [==============================] - 0s 3ms/step - loss: 0.8094 - accuracy: 0.7059\n",
            "Epoch 42/50\n",
            "6/6 [==============================] - 0s 3ms/step - loss: 0.8070 - accuracy: 0.7059\n",
            "Epoch 43/50\n",
            "6/6 [==============================] - 0s 4ms/step - loss: 0.8038 - accuracy: 0.7059\n",
            "Epoch 44/50\n",
            "6/6 [==============================] - 0s 3ms/step - loss: 0.8012 - accuracy: 0.7059\n",
            "Epoch 45/50\n",
            "6/6 [==============================] - 0s 3ms/step - loss: 0.7985 - accuracy: 0.7059\n",
            "Epoch 46/50\n",
            "6/6 [==============================] - 0s 3ms/step - loss: 0.7966 - accuracy: 0.7059\n",
            "Epoch 47/50\n",
            "6/6 [==============================] - 0s 4ms/step - loss: 0.7938 - accuracy: 0.7000\n",
            "Epoch 48/50\n",
            "6/6 [==============================] - 0s 4ms/step - loss: 0.7916 - accuracy: 0.7000\n",
            "Epoch 49/50\n",
            "6/6 [==============================] - 0s 4ms/step - loss: 0.7890 - accuracy: 0.7000\n",
            "Epoch 50/50\n",
            "6/6 [==============================] - 0s 3ms/step - loss: 0.7869 - accuracy: 0.7000\n"
          ]
        },
        {
          "output_type": "execute_result",
          "data": {
            "text/plain": [
              "<keras.src.callbacks.History at 0x791e702eab30>"
            ]
          },
          "metadata": {},
          "execution_count": 84
        }
      ],
      "source": [
        "model.compile(optimizer='adam',loss='categorical_crossentropy',metrics=['accuracy'])\n",
        "model.fit(X_train,y_train,epochs=50)"
      ]
    },
    {
      "cell_type": "code",
      "execution_count": 85,
      "metadata": {
        "colab": {
          "base_uri": "https://localhost:8080/"
        },
        "id": "iAbxdmgTcSUp",
        "outputId": "eddda4e6-1ef9-4180-9ea9-2392a8c64d94"
      },
      "outputs": [
        {
          "output_type": "stream",
          "name": "stdout",
          "text": [
            "2/2 [==============================] - 0s 8ms/step - loss: 1.4737 - accuracy: 0.7209\n"
          ]
        },
        {
          "output_type": "execute_result",
          "data": {
            "text/plain": [
              "[1.4736946821212769, 0.7209302186965942]"
            ]
          },
          "metadata": {},
          "execution_count": 85
        }
      ],
      "source": [
        "model.evaluate(X_test,y_test)"
      ]
    },
    {
      "cell_type": "code",
      "execution_count": 86,
      "metadata": {
        "colab": {
          "base_uri": "https://localhost:8080/"
        },
        "id": "Ophtfz07cSXQ",
        "outputId": "53c274b4-fd41-41ea-e2d8-f7f8619ec45b"
      },
      "outputs": [
        {
          "output_type": "stream",
          "name": "stdout",
          "text": [
            "2/2 [==============================] - 0s 11ms/step - loss: 1.4737 - accuracy: 0.7209\n",
            "loss: 1.4736946821212769\n",
            "2/2 [==============================] - 0s 10ms/step - loss: 1.4737 - accuracy: 0.7209\n",
            "accuracy: 0.7209302186965942\n"
          ]
        }
      ],
      "source": [
        "print('loss:',model.evaluate(X_test,y_test)[0])\n",
        "print('accuracy:',model.evaluate(X_test,y_test)[1])"
      ]
    }
  ]
}